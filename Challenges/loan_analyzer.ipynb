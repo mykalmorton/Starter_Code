{
 "cells": [
  {
   "cell_type": "code",
   "execution_count": 3,
   "metadata": {},
   "outputs": [
    {
     "name": "stdout",
     "output_type": "stream",
     "text": [
      "5\n"
     ]
    }
   ],
   "source": [
    "loan_costs = [500, 600, 200, 1000, 450]\n",
    "\n",
    "# How many loans are in the list?\n",
    "# @TODO: Use the `len` function to calculate the total number of loans in the list.\n",
    "# Print the number of loans from the list\n",
    "# YOUR CODE HERE!\n",
    "total_number_of_loans = len(loan_costs)\n",
    "print (total_number_of_loans)\n"
   ]
  },
  {
   "cell_type": "code",
   "execution_count": null,
   "metadata": {},
   "outputs": [],
   "source": []
  },
  {
   "cell_type": "code",
   "execution_count": 4,
   "metadata": {},
   "outputs": [
    {
     "name": "stdout",
     "output_type": "stream",
     "text": [
      "2750\n"
     ]
    }
   ],
   "source": [
    "total_of_all_loans = sum(loan_costs)\n",
    "print(total_of_all_loans)\n"
   ]
  },
  {
   "cell_type": "code",
   "execution_count": 7,
   "metadata": {},
   "outputs": [
    {
     "name": "stdout",
     "output_type": "stream",
     "text": [
      "550.0\n",
      " your average loan is: 550.0\n"
     ]
    }
   ],
   "source": [
    "average_loan_price = (total_of_all_loans / total_number_of_loans)\n",
    "print (average_loan_price)\n",
    "print (f\" your average loan is: {average_loan_price}\")"
   ]
  },
  {
   "cell_type": "code",
   "execution_count": 3,
   "metadata": {},
   "outputs": [
    {
     "name": "stdout",
     "output_type": "stream",
     "text": [
      "500\n",
      "9\n"
     ]
    }
   ],
   "source": [
    "loan = {\n",
    "    \"loan_price\": 500,\n",
    "    \"remaining_months\": 9,\n",
    "    \"repayment_interval\": \"bullet\",\n",
    "    \"future_value\": 1000,\n",
    "}\n",
    "\n",
    "# @TODO: Use get() on the dictionary of additional information to extract the Future Value and Remaining Months on the loan.\n",
    "# Print each variable.\n",
    "# YOUR CODE HERE!\n",
    "\n",
    "print (loan.get('loan_price'))\n",
    "print(loan.get('remaining_months'))\n"
   ]
  },
  {
   "cell_type": "code",
   "execution_count": 2,
   "metadata": {},
   "outputs": [
    {
     "name": "stdout",
     "output_type": "stream",
     "text": [
      "500\n",
      "9\n",
      "bullet\n",
      "1000\n",
      "{'loan_price': 500, 'remaining_months': 9, 'repayment_interval': 'bullet', 'future_value': 1000, 'discount_rate': 0.02}\n"
     ]
    },
    {
     "ename": "NameError",
     "evalue": "name 'future_value' is not defined",
     "output_type": "error",
     "traceback": [
      "\u001b[0;31m---------------------------------------------------------------------------\u001b[0m",
      "\u001b[0;31mNameError\u001b[0m                                 Traceback (most recent call last)",
      "\u001b[1;32m/Users/michaelmorton/Documents/School Files/Starter_Code/loan_analyzer.ipynb Cell 6'\u001b[0m in \u001b[0;36m<cell line: 32>\u001b[0;34m()\u001b[0m\n\u001b[1;32m     <a href='vscode-notebook-cell:/Users/michaelmorton/Documents/School%20Files/Starter_Code/loan_analyzer.ipynb#ch0000005?line=29'>30</a>\u001b[0m     \u001b[39mreturn\u001b[39;00m future_valued\n\u001b[1;32m     <a href='vscode-notebook-cell:/Users/michaelmorton/Documents/School%20Files/Starter_Code/loan_analyzer.ipynb#ch0000005?line=30'>31</a>\u001b[0m     \u001b[39mprint\u001b[39m(future_valued)\n\u001b[0;32m---> <a href='vscode-notebook-cell:/Users/michaelmorton/Documents/School%20Files/Starter_Code/loan_analyzer.ipynb#ch0000005?line=31'>32</a>\u001b[0m loan_price \u001b[39m=\u001b[39m calculate_present_value(loan[\u001b[39m\"\u001b[39;49m\u001b[39mloan_price\u001b[39;49m\u001b[39m\"\u001b[39;49m], loan[\u001b[39m\"\u001b[39;49m\u001b[39mdiscount_rate\u001b[39;49m\u001b[39m\"\u001b[39;49m], loan[\u001b[39m\"\u001b[39;49m\u001b[39mremaining_months\u001b[39;49m\u001b[39m\"\u001b[39;49m])\n\u001b[1;32m     <a href='vscode-notebook-cell:/Users/michaelmorton/Documents/School%20Files/Starter_Code/loan_analyzer.ipynb#ch0000005?line=33'>34</a>\u001b[0m \u001b[39mprint\u001b[39m(\u001b[39mf\u001b[39m\u001b[39m\"\u001b[39m\u001b[39mThe present value is $\u001b[39m\u001b[39m{\u001b[39;00mloan_price\u001b[39m:\u001b[39;00m\u001b[39m .2f\u001b[39m\u001b[39m}\u001b[39;00m\u001b[39m.\u001b[39m\u001b[39m\"\u001b[39m)\n",
      "\u001b[1;32m/Users/michaelmorton/Documents/School Files/Starter_Code/loan_analyzer.ipynb Cell 6'\u001b[0m in \u001b[0;36mcalculate_present_value\u001b[0;34m(current_loan_value, discount_rate, months_remaining)\u001b[0m\n\u001b[1;32m     <a href='vscode-notebook-cell:/Users/michaelmorton/Documents/School%20Files/Starter_Code/loan_analyzer.ipynb#ch0000005?line=27'>28</a>\u001b[0m \u001b[39mdef\u001b[39;00m \u001b[39mcalculate_present_value\u001b[39m(current_loan_value, discount_rate, months_remaining):\n\u001b[0;32m---> <a href='vscode-notebook-cell:/Users/michaelmorton/Documents/School%20Files/Starter_Code/loan_analyzer.ipynb#ch0000005?line=28'>29</a>\u001b[0m     present_value \u001b[39m=\u001b[39m future_value \u001b[39m*\u001b[39m (\u001b[39m1\u001b[39m \u001b[39m+\u001b[39m (discount_rate\u001b[39m/\u001b[39m \u001b[39m12\u001b[39m)) \u001b[39m*\u001b[39m\u001b[39m*\u001b[39m months_remaining\n\u001b[1;32m     <a href='vscode-notebook-cell:/Users/michaelmorton/Documents/School%20Files/Starter_Code/loan_analyzer.ipynb#ch0000005?line=29'>30</a>\u001b[0m     \u001b[39mreturn\u001b[39;00m future_valued\n\u001b[1;32m     <a href='vscode-notebook-cell:/Users/michaelmorton/Documents/School%20Files/Starter_Code/loan_analyzer.ipynb#ch0000005?line=30'>31</a>\u001b[0m     \u001b[39mprint\u001b[39m(future_valued)\n",
      "\u001b[0;31mNameError\u001b[0m: name 'future_value' is not defined"
     ]
    }
   ],
   "source": [
    "\n",
    "\n",
    "loan = {\n",
    "    \"loan_price\": 500,\n",
    "    \"remaining_months\": 9,\n",
    "    \"repayment_interval\": \"bullet\",\n",
    "    \"future_value\": 1000,\n",
    "}\n",
    "# Present value = Future value / (1+1)^n\n",
    "\n",
    "# @TODO: Use get() on the dictionary of additional information to extract the Future Value and Remaining Months on the loan.\n",
    "# Print each variable.\n",
    "# YOUR CODE HERE!\n",
    "\n",
    "print(loan.get('loan_price'))\n",
    "print(loan.get('remaining_months'))\n",
    "print(loan.get('repayment_interval'))\n",
    "print(loan.get('future_value'))\n",
    "\n",
    "# @TODO: Use the formula for Present Value to calculate a \"fair value\" of the loan.\n",
    "# Use a minimum required return of 20% as the discount rate.\n",
    "#   You'll want to use the **monthly** version of the present value formula.\n",
    "#   HINT: Present Value = Future Value / (1 + Discount_Rate/12) ** remaining_months\n",
    "\n",
    "# YOUR CODE HERE!\n",
    "\n",
    "loan.update({'discount_rate': .02})\n",
    "print(loan)\n",
    "\n",
    "def calculate_present_value(current_loan_value, discount_rate, months_remaining):\n",
    "    present_value = future_value * (1 + (discount_rate/ 12)) ** months_remaining\n",
    "    return future_valued\n",
    "    print(future_valued)\n",
    "loan_price = calculate_present_value(loan[\"loan_price\"], loan[\"discount_rate\"], loan[\"remaining_months\"])\n",
    "\n",
    "print(f\"The present value is ${loan_price: .2f}.\")\n"
   ]
  }
 ],
 "metadata": {
  "interpreter": {
   "hash": "31f2aee4e71d21fbe5cf8b01ff0e069b9275f58929596ceb00d14d90e3e16cd6"
  },
  "kernelspec": {
   "display_name": "Python 3.8.9 64-bit",
   "language": "python",
   "name": "python3"
  },
  "language_info": {
   "codemirror_mode": {
    "name": "ipython",
    "version": 3
   },
   "file_extension": ".py",
   "mimetype": "text/x-python",
   "name": "python",
   "nbconvert_exporter": "python",
   "pygments_lexer": "ipython3",
   "version": "3.8.9"
  },
  "orig_nbformat": 4
 },
 "nbformat": 4,
 "nbformat_minor": 2
}
